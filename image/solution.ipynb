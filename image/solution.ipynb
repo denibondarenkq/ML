{
 "cells": [
  {
   "cell_type": "code",
   "execution_count": 79,
   "id": "e59b755d-24fe-4335-8fb7-082dfc9a9db6",
   "metadata": {},
   "outputs": [],
   "source": [
    "import requests\n",
    "import os\n",
    "import math\n",
    "import torch\n",
    "import torch.nn as nn\n",
    "import torch.optim as optim\n",
    "import torchvision\n",
    "import torchvision.transforms as T\n",
    "import numpy as np\n",
    "import matplotlib.pyplot as plt\n",
    "import seaborn as sns\n",
    "import time\n",
    "import random\n",
    "\n",
    "from torch.utils.data import DataLoader\n",
    "from torch.utils.tensorboard import SummaryWriter\n",
    "from sklearn.manifold import TSNE\n",
    "\n",
    "from api import PEXELS_API_KEY"
   ]
  },
  {
   "cell_type": "code",
   "execution_count": 80,
   "id": "ac11c8ca-36f5-49e0-b7e3-e110cf0001e0",
   "metadata": {},
   "outputs": [
    {
     "name": "stdout",
     "output_type": "stream",
     "text": [
      "Используемое устройство: cpu\n"
     ]
    }
   ],
   "source": [
    "SEED = 42\n",
    "random.seed(SEED)\n",
    "np.random.seed(SEED)\n",
    "torch.manual_seed(SEED)\n",
    "if torch.cuda.is_available():\n",
    "    torch.cuda.manual_seed(SEED)\n",
    "\n",
    "class Config:\n",
    "    dataset_root = \"dataset\"\n",
    "    train_ratio = 0.8  \n",
    "    batch_size = 16\n",
    "    num_epochs = 10\n",
    "    lr = 1e-3\n",
    "    momentum = 0.9\n",
    "    device = torch.device(\"cuda\" if torch.cuda.is_available() else \"cpu\")\n",
    "\n",
    "cfg = Config()\n",
    "print(f\"Используемое устройство: {cfg.device}\")"
   ]
  },
  {
   "cell_type": "code",
   "execution_count": 65,
   "id": "e207350d-f1ae-49e1-a2b1-ecd5d60bdf9e",
   "metadata": {},
   "outputs": [],
   "source": [
    "os.makedirs(\"dataset/xmas\", exist_ok=True)\n",
    "os.makedirs(\"dataset/not_xmas\", exist_ok=True)\n",
    "\n",
    "NUM_IMAGES_TOTAL = 200\n",
    "PER_PAGE = 80\n",
    "\n",
    "XMAS_QUERIES = [\n",
    "    \"Christmas Tree\",\n",
    "    \"Christmas Lights\",\n",
    "    \"Christmas Gifts\",\n",
    "    \"Snowy Christmas\",\n",
    "    \"Santa Claus\",\n",
    "    \"Christmas Decoration\"\n",
    "]\n",
    "\n",
    "NOT_XMAS_QUERIES = [\n",
    "    \"Summer Beach\",\n",
    "    \"Urban Landscape\",\n",
    "    \"Mountain Hiking\",\n",
    "    \"City Skyline\",\n",
    "    \"Desert Dunes\",\n",
    "    \"Forest Trail\"\n",
    "]\n",
    "\n",
    "IMAGES_PER_QUERY_XMAS = math.ceil(NUM_IMAGES_TOTAL / len(XMAS_QUERIES))\n",
    "IMAGES_PER_QUERY_NOT_XMAS = math.ceil(NUM_IMAGES_TOTAL / len(NOT_XMAS_QUERIES))"
   ]
  },
  {
   "cell_type": "code",
   "execution_count": 66,
   "id": "07a1aad5-cc64-4a29-9957-1e8ad3061818",
   "metadata": {},
   "outputs": [],
   "source": [
    "def fetch_images_from_api(query, page):\n",
    "    headers = {\n",
    "        \"Authorization\": PEXELS_API_KEY\n",
    "    }\n",
    "    url = f\"https://api.pexels.com/v1/search?query={query}&per_page={PER_PAGE}&page={page}\"\n",
    "    response = requests.get(url, headers=headers)\n",
    "    \n",
    "    if response.status_code != 200:\n",
    "        print(f\"API Error: {response.status_code}, {response.text}\")\n",
    "        return []\n",
    "    \n",
    "    return response.json().get(\"photos\", [])"
   ]
  },
  {
   "cell_type": "code",
   "execution_count": 67,
   "id": "e746c3b0-63c9-4d7e-b881-51733b84061f",
   "metadata": {},
   "outputs": [],
   "source": [
    "def save_image(photo, folder, query, index):\n",
    "    img_url = photo[\"src\"][\"large\"]\n",
    "    try:\n",
    "        img_data = requests.get(img_url).content\n",
    "        file_path = os.path.join(folder, f\"{query.replace(' ', '_')}_{index + 1}.jpg\")\n",
    "        with open(file_path, \"wb\") as handler:\n",
    "            handler.write(img_data)\n",
    "    except Exception as e:\n",
    "        print(f\"Download Error: {e}\")"
   ]
  },
  {
   "cell_type": "code",
   "execution_count": 68,
   "id": "6a2b0041-bc6b-44e4-b0ab-c7f747e63055",
   "metadata": {},
   "outputs": [],
   "source": [
    "def download_images(query, folder, num_images):\n",
    "    total_pages = math.ceil(num_images / PER_PAGE)\n",
    "    downloaded = 0\n",
    "    \n",
    "    for page in range(1, total_pages + 1):\n",
    "        photos = fetch_images_from_api(query, page)\n",
    "        \n",
    "        if not photos:\n",
    "            print(\"No more images available for this query.\")\n",
    "            break\n",
    "        \n",
    "        for idx, photo in enumerate(photos):\n",
    "            save_image(photo, folder, query, downloaded)\n",
    "            downloaded += 1\n",
    "            \n",
    "            if downloaded >= num_images:\n",
    "                print(f\"Download complete: {downloaded}/{num_images} images downloaded for query '{query}' in folder '{folder}'\")\n",
    "                return\n",
    "    \n",
    "    print(f\"Download complete: {downloaded}/{num_images} images downloaded for query '{query}' in folder '{folder}'\")"
   ]
  },
  {
   "cell_type": "code",
   "execution_count": 69,
   "id": "015443a3-d9d1-484f-8bb4-80bb7c0e0a3c",
   "metadata": {},
   "outputs": [
    {
     "name": "stdout",
     "output_type": "stream",
     "text": [
      "Download complete: 34/34 images downloaded for query 'Christmas Tree' in folder 'dataset/xmas'\n",
      "Download complete: 34/34 images downloaded for query 'Christmas Lights' in folder 'dataset/xmas'\n",
      "Download complete: 34/34 images downloaded for query 'Christmas Gifts' in folder 'dataset/xmas'\n",
      "Download complete: 34/34 images downloaded for query 'Snowy Christmas' in folder 'dataset/xmas'\n",
      "Download complete: 34/34 images downloaded for query 'Santa Claus' in folder 'dataset/xmas'\n",
      "Download complete: 34/34 images downloaded for query 'Christmas Decoration' in folder 'dataset/xmas'\n",
      "Download complete: 29/29 images downloaded for query 'Summer Beach' in folder 'dataset/not_xmas'\n",
      "Download complete: 29/29 images downloaded for query 'Tropical Island' in folder 'dataset/not_xmas'\n",
      "Download complete: 29/29 images downloaded for query 'Urban Landscape' in folder 'dataset/not_xmas'\n",
      "Download complete: 29/29 images downloaded for query 'Mountain Hiking' in folder 'dataset/not_xmas'\n",
      "Download complete: 29/29 images downloaded for query 'City Skyline' in folder 'dataset/not_xmas'\n",
      "Download complete: 29/29 images downloaded for query 'Desert Dunes' in folder 'dataset/not_xmas'\n",
      "Download complete: 29/29 images downloaded for query 'Forest Trail' in folder 'dataset/not_xmas'\n"
     ]
    }
   ],
   "source": [
    "for query in XMAS_QUERIES:\n",
    "    download_images(query, \"dataset/xmas\", num_images=IMAGES_PER_QUERY_XMAS)\n",
    "\n",
    "for query in NOT_XMAS_QUERIES:\n",
    "    download_images(query, \"dataset/not_xmas\", num_images=IMAGES_PER_QUERY_NOT_XMAS)"
   ]
  },
  {
   "cell_type": "code",
   "execution_count": null,
   "id": "8aa74021-7686-43ec-80f7-4a01278a1a0d",
   "metadata": {},
   "outputs": [],
   "source": []
  }
 ],
 "metadata": {
  "kernelspec": {
   "display_name": "Python 3.9 (usr/bin/python3)",
   "language": "python",
   "name": "python3.9"
  },
  "language_info": {
   "codemirror_mode": {
    "name": "ipython",
    "version": 3
   },
   "file_extension": ".py",
   "mimetype": "text/x-python",
   "name": "python",
   "nbconvert_exporter": "python",
   "pygments_lexer": "ipython3",
   "version": "3.9.6"
  }
 },
 "nbformat": 4,
 "nbformat_minor": 5
}
